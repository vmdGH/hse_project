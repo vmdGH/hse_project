{
 "cells": [
  {
   "cell_type": "markdown",
   "metadata": {},
   "source": [
    "### Imports"
   ]
  },
  {
   "cell_type": "code",
   "execution_count": 25,
   "metadata": {},
   "outputs": [],
   "source": [
    "from ta import add_all_ta_features\n",
    "import os\n",
    "import holidays\n",
    "import pandas as pd\n",
    "import matplotlib.pyplot as plt\n",
    "import statsmodels.api as sm\n",
    "from ta.momentum import RSIIndicator\n",
    "import plotly.graph_objects as go\n",
    "\n",
    "from sklearn.model_selection import train_test_split\n",
    "\n",
    "\n",
    "from sklearn.ensemble import AdaBoostClassifier\n",
    "from sklearn.model_selection import train_test_split\n",
    "from sklearn.metrics import accuracy_score\n",
    "from sklearn.tree import DecisionTreeClassifier\n",
    "import pandas_ta as ta\n",
    "import matplotlib.pyplot as plt\n",
    "from sklearn.metrics import confusion_matrix, ConfusionMatrixDisplay\n",
    "from sklearn.model_selection import train_test_split\n",
    "from sklearn.svm import SVC\n",
    "import numpy as np"
   ]
  },
  {
   "cell_type": "markdown",
   "metadata": {},
   "source": [
    "### Read data"
   ]
  },
  {
   "cell_type": "code",
   "execution_count": 27,
   "metadata": {},
   "outputs": [
    {
     "name": "stdout",
     "output_type": "stream",
     "text": [
      "['AFLT_daily_010114_010124.txt']\n"
     ]
    }
   ],
   "source": [
    "folder_path = './data/'\n",
    "files = os.listdir(folder_path)\n",
    "print(files)\n",
    "\n",
    "list_to_concat = []\n",
    "for file in files:\n",
    "    if 'txt' in file:\n",
    "        list_to_concat.append(pd.read_csv(f'./data/{file}', sep=','))\n"
   ]
  },
  {
   "cell_type": "markdown",
   "metadata": {},
   "source": [
    "### Preprocessing"
   ]
  },
  {
   "cell_type": "code",
   "execution_count": 26,
   "metadata": {},
   "outputs": [],
   "source": [
    "def column_name_preprocesing(df):\n",
    "    '''\n",
    "    change names of columns\n",
    "    drop columns\n",
    "    add change in price column\n",
    "    '''\n",
    "    df = df.copy()\n",
    "    df.rename(columns={'<OPEN>': 'open', '<HIGH>': 'high', '<LOW>': 'low', '<CLOSE>': 'close', '<VOL>': 'volume', '<TICKER>':'symbol','<DATE>':'datetime'}, inplace=True)\n",
    "    columns_to_keep = ['symbol', 'datetime', 'open', 'close', 'high', 'low', 'volume']\n",
    "    df = df[columns_to_keep]\n",
    "    df.sort_values(by = ['symbol','datetime'], inplace = True)\n",
    "    df['change_in_price'] = df['close'].diff()\n",
    "    return df"
   ]
  },
  {
   "cell_type": "code",
   "execution_count": 28,
   "metadata": {},
   "outputs": [
    {
     "name": "stderr",
     "output_type": "stream",
     "text": [
      "C:\\Users\\Matvey\\AppData\\Local\\Temp\\ipykernel_12500\\806409226.py:7: FutureWarning: DataFrame.fillna with 'method' is deprecated and will raise in a future version. Use obj.ffill() or obj.bfill() instead.\n",
      "  df = df.fillna(method='ffill')\n"
     ]
    }
   ],
   "source": [
    "result = pd.concat(list_to_concat, ignore_index=True)\n",
    "result = column_name_preprocesing(result)\n",
    "result['datetime'] = pd.to_datetime(result['datetime'], format='%Y%m%d')\n",
    "df = result\n",
    "date_range = pd.date_range(start=df['datetime'].min(), end=df['datetime'].max(), freq='D')\n",
    "df = pd.DataFrame(date_range, columns=['datetime']).merge(df, how='left', on='datetime')\n",
    "df = df.fillna(method='ffill')\n",
    "df['rsi14'] = ((RSIIndicator(close = df['close'], window = 14).rsi() - 50)/50)\n",
    "df['rsi30'] = ((RSIIndicator(close = df['close'], window = 14).rsi() - 50)/50)\n",
    "\n",
    "df = add_all_ta_features(\n",
    "    df, open=\"open\", high=\"high\", low=\"low\", close=\"close\", volume=\"volume\", fillna=True)\n",
    "df['change_in_price'] = df['change_in_price'].shift(-1)\n",
    "df['change_in_price'] = df['change_in_price'].apply(lambda x: 1 if x>=0 else 0)"
   ]
  },
  {
   "cell_type": "code",
   "execution_count": 29,
   "metadata": {},
   "outputs": [],
   "source": [
    "df.drop(columns=['datetime','symbol'], inplace=True)\n",
    "df.dropna(inplace=True)"
   ]
  },
  {
   "cell_type": "markdown",
   "metadata": {},
   "source": [
    "### Adaboost"
   ]
  },
  {
   "cell_type": "code",
   "execution_count": 30,
   "metadata": {},
   "outputs": [],
   "source": [
    "X_Cols = df.drop(['change_in_price'], axis = 1)\n",
    "Y_Cols = df['change_in_price']\n",
    "\n",
    "X_train, X_test, y_train, y_test = train_test_split(X_Cols, Y_Cols, shuffle=False, test_size=0.2)"
   ]
  },
  {
   "cell_type": "code",
   "execution_count": 7,
   "metadata": {},
   "outputs": [
    {
     "name": "stdout",
     "output_type": "stream",
     "text": [
      "Correct Prediction (%):  51.30674002751031\n"
     ]
    }
   ],
   "source": [
    "base_classifier = DecisionTreeClassifier(max_depth=1)\n",
    "ada_boost = AdaBoostClassifier(base_classifier, n_estimators=50, random_state=42)\n",
    "ada_boost.fit(X_train, y_train)\n",
    "y_pred = ada_boost.predict(X_test)\n",
    "\n",
    "print('Correct Prediction (%): ', accuracy_score(y_test, ada_boost.predict(X_test), normalize = True) * 100.0)"
   ]
  },
  {
   "cell_type": "code",
   "execution_count": 22,
   "metadata": {},
   "outputs": [],
   "source": [
    "from sklearn.model_selection import RandomizedSearchCV\n"
   ]
  },
  {
   "cell_type": "code",
   "execution_count": 32,
   "metadata": {},
   "outputs": [
    {
     "name": "stderr",
     "output_type": "stream",
     "text": [
      "C:\\Users\\Matvey\\AppData\\Local\\Packages\\PythonSoftwareFoundation.Python.3.11_qbz5n2kfra8p0\\LocalCache\\local-packages\\Python311\\site-packages\\sklearn\\model_selection\\_search.py:930: FutureWarning: Parameter 'base_estimator' of AdaBoostClassifier is deprecated in favor of 'estimator'. See AdaBoostClassifier's docstring for more details.\n",
      "  self.best_estimator_ = clone(base_estimator).set_params(\n"
     ]
    },
    {
     "name": "stdout",
     "output_type": "stream",
     "text": [
      "Correct Prediction (%):  49.38101788170564\n"
     ]
    }
   ],
   "source": [
    "my_list = np.logspace(-2, 0, num=100, endpoint=True)\n",
    "my_list = [round(x, 2) for x in my_list]\n",
    "my_list = list(set(my_list))\n",
    "\n",
    "param_dist = {\n",
    "    'base_estimator__max_depth': list(range(1, 21, 1)),\n",
    "    'n_estimators': list(range(10, 300, 10)),\n",
    "    'learning_rate': my_list\n",
    "}\n",
    "\n",
    "base_classifier = DecisionTreeClassifier()\n",
    "ada_boost = AdaBoostClassifier(base_classifier)\n",
    "\n",
    "ada_boost_random = RandomizedSearchCV(ada_boost, param_distributions=param_dist, n_iter=50, cv=3, random_state=42, n_jobs = -1)\n",
    "ada_boost_random.fit(X_train, y_train)\n",
    "\n",
    "print('Correct Prediction (%): ', accuracy_score(y_test, ada_boost_random.predict(X_test), normalize = True) * 100.0)"
   ]
  },
  {
   "cell_type": "code",
   "execution_count": 33,
   "metadata": {},
   "outputs": [
    {
     "data": {
      "text/plain": [
       "{'n_estimators': 160, 'learning_rate': 0.14, 'base_estimator__max_depth': 1}"
      ]
     },
     "execution_count": 33,
     "metadata": {},
     "output_type": "execute_result"
    }
   ],
   "source": [
    "ada_boost_random.best_params_"
   ]
  },
  {
   "cell_type": "code",
   "execution_count": 34,
   "metadata": {},
   "outputs": [
    {
     "name": "stdout",
     "output_type": "stream",
     "text": [
      "Correct Prediction (%):  49.38101788170564\n"
     ]
    }
   ],
   "source": [
    "base_classifier = DecisionTreeClassifier(max_depth=1)\n",
    "ada_boost = AdaBoostClassifier(base_classifier, n_estimators=160, learning_rate=0.14)\n",
    "ada_boost.fit(X_train, y_train)\n",
    "print('Correct Prediction (%): ', accuracy_score(y_test, ada_boost.predict(X_test), normalize = True) * 100.0)"
   ]
  }
 ],
 "metadata": {
  "kernelspec": {
   "display_name": "Python 3",
   "language": "python",
   "name": "python3"
  },
  "language_info": {
   "codemirror_mode": {
    "name": "ipython",
    "version": 3
   },
   "file_extension": ".py",
   "mimetype": "text/x-python",
   "name": "python",
   "nbconvert_exporter": "python",
   "pygments_lexer": "ipython3",
   "version": "3.11.8"
  }
 },
 "nbformat": 4,
 "nbformat_minor": 2
}
